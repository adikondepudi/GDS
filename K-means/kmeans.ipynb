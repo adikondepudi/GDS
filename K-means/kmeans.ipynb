{
 "cells": [
  {
   "cell_type": "code",
   "execution_count": null,
   "metadata": {},
   "outputs": [],
   "source": [
    "import numpy as np\n",
    "import matplotlib.pyplot as plt\n",
    "import seaborn as sns\n",
    "\n",
    "from sklearn.cluster import KMeans\n",
    "from sklearn.datasets import make_blobs\n",
    "from sklearn.datasets import make_circles\n",
    "\n",
    "from sklearn.neighbors import KNeighborsClassifier as knn\n",
    "from sklearn.metrics import confusion_matrix\n",
    "from sklearn.cluster import SpectralClustering"
   ]
  },
  {
   "cell_type": "code",
   "execution_count": null,
   "metadata": {},
   "outputs": [],
   "source": [
    "(X, y) = make_circles(n_samples = 1000, noise = 0.1, factor=0.11)\n",
    "\n",
    "sns.scatterplot(X[:,0], X[:,1])"
   ]
  },
  {
   "cell_type": "code",
   "execution_count": null,
   "metadata": {},
   "outputs": [],
   "source": [
    "model = SpectralClustering(n_clusters=2,eigen_solver=\"arpack\",affinity=\"nearest_neighbors\")\n",
    "model.fit(X)\n",
    "ypred = model.fit_predict(X)\n",
    "model.n_features_in_"
   ]
  },
  {
   "cell_type": "code",
   "execution_count": null,
   "metadata": {},
   "outputs": [],
   "source": [
    "x_min,x_max,y_min,y_max,h = -4,4,-4,4,.01\n",
    "#xx, yy = np.meshgrid(np.arange(x_min, x_max, h), np.arange(y_min, y_max, h))\n",
    "#Z = model.predict_proba(np.c_[xx.ravel(), yy.ravel()])[:, 1]\n",
    "\n",
    "# Put the result inato a color plot\n",
    "# plt.figure(figsize=(5,5))\n",
    "# Z = Z.reshape(xx.shape)\n",
    "# plt.contourf(xx, yy, Z, alpha=0.4,levels=1)\n",
    "# sns.scatterplot(X[:, 0], X[:, 1], hue=ypred, palette=[\"red\", \"blue\", \"green\", \"orange\", \"yellow\", \"purple\"])\n",
    "sns.scatterplot(X[:, 0], X[:, 1], hue=ypred, palette=\"bright\")\n",
    "\n",
    "\n",
    "# print(model.score(X,y)) #\n",
    "# confusion_matrix(y, model.predict(X))\n",
    "# print(np.sum(y))"
   ]
  },
  {
   "cell_type": "code",
   "execution_count": null,
   "metadata": {},
   "outputs": [],
   "source": [
    "(X, y) = make_blobs(n_samples = 999, cluster_std = 0.4, centers=[(-1,1),(1,-1),(1,1),(-1,-1)])\n",
    "\n",
    "sns.scatterplot(X[:,0], X[:,1])\n"
   ]
  },
  {
   "cell_type": "code",
   "execution_count": null,
   "metadata": {},
   "outputs": [],
   "source": [
    "model = knn()\n",
    "model.fit(X,y)\n",
    "model.n_features_in_\n",
    "\n",
    "x_min,x_max,y_min,y_max,h = -4,4,-4,4,.01\n",
    "xx, yy = np.meshgrid(np.arange(x_min, x_max, h), np.arange(y_min, y_max, h))\n",
    "Z = model.predict_proba(np.c_[xx.ravel(), yy.ravel()])[:, 1]\n",
    "\n",
    "# Put the result inato a color plot\n",
    "plt.figure(figsize=(5,5))\n",
    "Z = Z.reshape(xx.shape)\n",
    "plt.contourf(xx, yy, Z, alpha=0.4,levels=1)\n",
    "plt.scatter(X[:, 0], X[:, 1], c=y,edgecolors=['black','black'])\n",
    "\n",
    "print(model.score(X,y)) #\n",
    "confusion_matrix(y, model.predict(X))\n",
    "print(np.sum(y))"
   ]
  }
 ],
 "metadata": {
  "kernelspec": {
   "display_name": "Python 3",
   "language": "python",
   "name": "python3"
  },
  "language_info": {
   "name": "python",
   "version": "3.9.6 (default, Sep 26 2022, 11:37:49) \n[Clang 14.0.0 (clang-1400.0.29.202)]"
  },
  "orig_nbformat": 4,
  "vscode": {
   "interpreter": {
    "hash": "31f2aee4e71d21fbe5cf8b01ff0e069b9275f58929596ceb00d14d90e3e16cd6"
   }
  }
 },
 "nbformat": 4,
 "nbformat_minor": 2
}
