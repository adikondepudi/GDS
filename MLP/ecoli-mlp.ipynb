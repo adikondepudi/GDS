{
 "cells": [
  {
   "cell_type": "code",
   "execution_count": null,
   "metadata": {},
   "outputs": [],
   "source": [
    "import numpy as np\n",
    "import pandas as pd \n",
    "import matplotlib.pyplot as plt\n",
    "from sklearn.neural_network import MLPClassifier\n",
    "from sklearn import preprocessing\n",
    "from sklearn.neighbors import KNeighborsClassifier as knn\n",
    "import seaborn as sns"
   ]
  },
  {
   "cell_type": "code",
   "execution_count": null,
   "metadata": {},
   "outputs": [],
   "source": [
    "# https://www.kaggle.com/datasets/kannanaikkal/ecoli-uci-dataset\n",
    "df = pd.read_csv(\"./ecoli.csv\")"
   ]
  },
  {
   "cell_type": "code",
   "execution_count": null,
   "metadata": {},
   "outputs": [],
   "source": [
    "df.head()\n",
    "df.info()\n",
    "#Dataframe has 327 columns and 7 classes. Classes are MCG, GVH, LIP, CHG, AAC, ALM1, and ALM2\n"
   ]
  },
  {
   "cell_type": "code",
   "execution_count": null,
   "metadata": {},
   "outputs": [],
   "source": [
    "df.groupby(['SITE']).agg(['count'])"
   ]
  },
  {
   "cell_type": "code",
   "execution_count": null,
   "metadata": {},
   "outputs": [],
   "source": [
    "# df = df.drop(df[df['SITE'] == 'imS'])\n",
    "# df = df[df.SITE.isin(\"imS\") == True]\n",
    "df = df[df.SITE != \"imS\"]\n",
    "df = df[df.SITE != \"imL\"]\n",
    "df = df[df.SITE != \"omL\"]\n",
    "\n",
    "df.groupby(['SITE']).agg(['count'])\n",
    "\n",
    "X = df.iloc[:,1:7]\n",
    "y = df['SITE']\n",
    "preprocessing.LabelEncoder().fit_transform(y)\n",
    "print(X.head)\n",
    "print(y.head)"
   ]
  },
  {
   "cell_type": "code",
   "execution_count": null,
   "metadata": {},
   "outputs": [],
   "source": [
    "mlp = MLPClassifier(hidden_layer_sizes = (20,20), activation = 'logistic', max_iter=5000).fit(X,y)"
   ]
  },
  {
   "cell_type": "code",
   "execution_count": null,
   "metadata": {},
   "outputs": [],
   "source": [
    "from sklearn import datasets,metrics\n",
    "\n",
    "print(mlp.score(X,y))\n",
    "\n",
    "\n",
    "ypred = mlp.predict(X)\n",
    "\n",
    "disp = metrics.ConfusionMatrixDisplay.from_predictions(y, ypred)\n",
    "disp.figure_.suptitle(\"Confusion Matrix\")\n",
    "print(f\"Confusion matrix:\\n{disp.confusion_matrix}\")"
   ]
  },
  {
   "cell_type": "code",
   "execution_count": null,
   "metadata": {},
   "outputs": [],
   "source": [
    "#Score without changing more hyper-paramaters is 0.81\n",
    "mlp1 = MLPClassifier(hidden_layer_sizes = (20,20), max_iter=5000).fit(X,y)\n",
    "print(mlp1.score(X,y))\n",
    "print(mlp1.out_activation_)\n",
    "\n",
    "ypred1 = mlp1.predict(X)\n",
    "\n",
    "disp = metrics.ConfusionMatrixDisplay.from_predictions(y, ypred1)\n",
    "disp.figure_.suptitle(\"Confusion Matrix\")\n",
    "print(f\"Confusion matrix:\\n{disp.confusion_matrix}\")"
   ]
  },
  {
   "cell_type": "code",
   "execution_count": null,
   "metadata": {},
   "outputs": [],
   "source": [
    "model = knn()\n",
    "model.fit(X,y)\n",
    "model.score(X,y)\n",
    "\n",
    "ypred2 = model.predict(X)\n",
    "\n",
    "\n",
    "disp = metrics.ConfusionMatrixDisplay.from_predictions(y, ypred2)\n",
    "disp.figure_.suptitle(\"Confusion Matrix\")\n",
    "print(f\"Confusion matrix:\\n{disp.confusion_matrix}\")"
   ]
  }
 ],
 "metadata": {
  "kernelspec": {
   "display_name": "Python 3",
   "language": "python",
   "name": "python3"
  },
  "language_info": {
   "name": "python",
   "version": "3.9.6 (default, Sep 26 2022, 11:37:49) \n[Clang 14.0.0 (clang-1400.0.29.202)]"
  },
  "orig_nbformat": 4,
  "vscode": {
   "interpreter": {
    "hash": "31f2aee4e71d21fbe5cf8b01ff0e069b9275f58929596ceb00d14d90e3e16cd6"
   }
  }
 },
 "nbformat": 4,
 "nbformat_minor": 2
}
