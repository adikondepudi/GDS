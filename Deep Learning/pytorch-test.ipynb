{
 "cells": [
  {
   "cell_type": "code",
   "execution_count": 2,
   "metadata": {},
   "outputs": [
    {
     "name": "stdout",
     "output_type": "stream",
     "text": [
      "tensor([1.], device='mps:0')\n"
     ]
    }
   ],
   "source": [
    "import torch\n",
    "if torch.backends.mps.is_available():\n",
    "    mps_device = torch.device(\"mps\")\n",
    "    x = torch.ones(1, device=mps_device)\n",
    "    print (x)\n",
    "else:\n",
    "    print (\"MPS device not found.\")"
   ]
  },
  {
   "cell_type": "code",
   "execution_count": 3,
   "metadata": {},
   "outputs": [],
   "source": [
    "import numpy as np\n",
    "from sklearn.datasets import make_classification\n",
    "from torch import nn"
   ]
  },
  {
   "cell_type": "code",
   "execution_count": 4,
   "metadata": {},
   "outputs": [],
   "source": [
    "from skorch import NeuralNetClassifier\n",
    "\n",
    "X, y = make_classification(1000, 20, n_informative=10, random_state=0)\n",
    "X = X.astype(np.float32)\n",
    "y = y.astype(np.int64)\n",
    "\n",
    "class MyModule(nn.Module):\n",
    "    def __init__(self, num_units=10, nonlin=nn.ReLU()):\n",
    "        super(MyModule, self).__init__()\n",
    "\n",
    "        self.dense0 = nn.Linear(20, num_units)\n",
    "        self.nonlin = nonlin\n",
    "        self.dropout = nn.Dropout(0.5)\n",
    "        self.dense1 = nn.Linear(num_units, num_units)\n",
    "        self.output = nn.Linear(num_units, 2)\n",
    "        self.softmax = nn.Softmax(dim=-1)\n",
    "\n",
    "    def forward(self, X, **kwargs):\n",
    "        X = self.nonlin(self.dense0(X))\n",
    "        X = self.dropout(X)\n",
    "        X = self.nonlin(self.dense1(X))\n",
    "        X = self.softmax(self.output(X))\n",
    "        return X"
   ]
  },
  {
   "cell_type": "code",
   "execution_count": 5,
   "metadata": {},
   "outputs": [],
   "source": [
    "net = NeuralNetClassifier(\n",
    "    MyModule,\n",
    "    max_epochs=50,\n",
    "    lr=0.1,\n",
    "    # Shuffle training data on each epoch\n",
    "    iterator_train__shuffle=True,\n",
    ")"
   ]
  },
  {
   "cell_type": "code",
   "execution_count": 6,
   "metadata": {},
   "outputs": [
    {
     "name": "stdout",
     "output_type": "stream",
     "text": [
      "  epoch    train_loss    valid_acc    valid_loss     dur\n",
      "-------  ------------  -----------  ------------  ------\n",
      "      1        \u001b[36m0.7105\u001b[0m       \u001b[32m0.4900\u001b[0m        \u001b[35m0.6951\u001b[0m  0.0105\n",
      "      2        \u001b[36m0.6940\u001b[0m       \u001b[32m0.5350\u001b[0m        \u001b[35m0.6838\u001b[0m  0.0077\n",
      "      3        \u001b[36m0.6849\u001b[0m       \u001b[32m0.5750\u001b[0m        \u001b[35m0.6764\u001b[0m  0.0072\n",
      "      4        \u001b[36m0.6697\u001b[0m       \u001b[32m0.6200\u001b[0m        \u001b[35m0.6714\u001b[0m  0.0074\n",
      "      5        \u001b[36m0.6696\u001b[0m       \u001b[32m0.6300\u001b[0m        \u001b[35m0.6664\u001b[0m  0.0074\n",
      "      6        \u001b[36m0.6469\u001b[0m       \u001b[32m0.6550\u001b[0m        \u001b[35m0.6583\u001b[0m  0.0077\n",
      "      7        \u001b[36m0.6359\u001b[0m       0.6450        \u001b[35m0.6501\u001b[0m  0.0075\n",
      "      8        \u001b[36m0.6258\u001b[0m       \u001b[32m0.6650\u001b[0m        \u001b[35m0.6410\u001b[0m  0.0076\n",
      "      9        \u001b[36m0.6132\u001b[0m       0.6500        \u001b[35m0.6285\u001b[0m  0.0068\n",
      "     10        0.6221       \u001b[32m0.6750\u001b[0m        \u001b[35m0.6216\u001b[0m  0.0080\n",
      "     11        \u001b[36m0.6043\u001b[0m       \u001b[32m0.6900\u001b[0m        \u001b[35m0.6127\u001b[0m  0.0074\n",
      "     12        \u001b[36m0.5759\u001b[0m       \u001b[32m0.7100\u001b[0m        \u001b[35m0.6019\u001b[0m  0.0065\n",
      "     13        0.5983       \u001b[32m0.7250\u001b[0m        \u001b[35m0.5952\u001b[0m  0.0074\n",
      "     14        0.5962       0.7050        \u001b[35m0.5871\u001b[0m  0.0069\n",
      "     15        0.5784       0.6900        \u001b[35m0.5804\u001b[0m  0.0067\n",
      "     16        0.5866       0.7000        \u001b[35m0.5742\u001b[0m  0.0069\n",
      "     17        \u001b[36m0.5627\u001b[0m       0.7100        \u001b[35m0.5662\u001b[0m  0.0066\n",
      "     18        0.5793       \u001b[32m0.7350\u001b[0m        \u001b[35m0.5630\u001b[0m  0.0070\n",
      "     19        \u001b[36m0.5615\u001b[0m       0.7350        \u001b[35m0.5604\u001b[0m  0.0067\n",
      "     20        \u001b[36m0.5582\u001b[0m       \u001b[32m0.7450\u001b[0m        \u001b[35m0.5556\u001b[0m  0.0069\n",
      "     21        \u001b[36m0.5559\u001b[0m       \u001b[32m0.7600\u001b[0m        \u001b[35m0.5480\u001b[0m  0.0071\n",
      "     22        \u001b[36m0.5280\u001b[0m       0.7600        \u001b[35m0.5407\u001b[0m  0.0068\n",
      "     23        0.5418       \u001b[32m0.7650\u001b[0m        0.5439  0.0068\n",
      "     24        0.5350       0.7550        \u001b[35m0.5348\u001b[0m  0.0067\n",
      "     25        0.5577       0.7650        0.5362  0.0065\n",
      "     26        0.5325       0.7550        \u001b[35m0.5320\u001b[0m  0.0075\n",
      "     27        \u001b[36m0.5237\u001b[0m       0.7650        \u001b[35m0.5273\u001b[0m  0.0064\n",
      "     28        \u001b[36m0.5183\u001b[0m       0.7600        \u001b[35m0.5194\u001b[0m  0.0072\n",
      "     29        \u001b[36m0.5090\u001b[0m       0.7650        \u001b[35m0.5126\u001b[0m  0.0068\n",
      "     30        0.5111       0.7550        \u001b[35m0.5093\u001b[0m  0.0075\n",
      "     31        0.5141       \u001b[32m0.7750\u001b[0m        \u001b[35m0.5054\u001b[0m  0.0064\n",
      "     32        0.5159       0.7600        0.5065  0.0067\n",
      "     33        0.5192       0.7700        \u001b[35m0.5047\u001b[0m  0.0065\n",
      "     34        0.5182       0.7750        0.5060  0.0067\n",
      "     35        0.5229       0.7700        0.5062  0.0065\n",
      "     36        0.5137       0.7700        \u001b[35m0.5037\u001b[0m  0.0066\n",
      "     37        \u001b[36m0.4770\u001b[0m       0.7650        \u001b[35m0.4965\u001b[0m  0.0063\n",
      "     38        0.4957       0.7650        \u001b[35m0.4953\u001b[0m  0.0068\n",
      "     39        \u001b[36m0.4700\u001b[0m       0.7550        \u001b[35m0.4901\u001b[0m  0.0063\n",
      "     40        0.5256       0.7700        0.4930  0.0068\n",
      "     41        0.4849       0.7750        \u001b[35m0.4870\u001b[0m  0.0066\n",
      "     42        0.5019       0.7650        0.4871  0.0063\n",
      "     43        0.4826       0.7700        \u001b[35m0.4811\u001b[0m  0.0058\n",
      "     44        0.4717       0.7600        0.4844  0.0069\n",
      "     45        \u001b[36m0.4581\u001b[0m       \u001b[32m0.7800\u001b[0m        \u001b[35m0.4765\u001b[0m  0.0070\n",
      "     46        0.4734       0.7750        0.4774  0.0066\n",
      "     47        0.4756       0.7750        \u001b[35m0.4756\u001b[0m  0.0061\n",
      "     48        0.4774       0.7750        \u001b[35m0.4729\u001b[0m  0.0069\n",
      "     49        0.4899       0.7750        \u001b[35m0.4683\u001b[0m  0.0063\n",
      "     50        0.4682       0.7750        \u001b[35m0.4613\u001b[0m  0.0065\n",
      "[[0.60620457 0.39379543]\n",
      " [0.87637657 0.12362346]\n",
      " [0.5772943  0.42270565]\n",
      " ...\n",
      " [0.84431964 0.15568034]\n",
      " [0.48335585 0.5166442 ]\n",
      " [0.86215234 0.13784759]] is calculated probability.\n"
     ]
    }
   ],
   "source": [
    "net.fit(X, y)\n",
    "y_proba = net.predict_proba(X)\n",
    "print(y_proba, \"is calculated probability.\")"
   ]
  }
 ],
 "metadata": {
  "kernelspec": {
   "display_name": "base",
   "language": "python",
   "name": "python3"
  },
  "language_info": {
   "codemirror_mode": {
    "name": "ipython",
    "version": 3
   },
   "file_extension": ".py",
   "mimetype": "text/x-python",
   "name": "python",
   "nbconvert_exporter": "python",
   "pygments_lexer": "ipython3",
   "version": "3.10.8"
  },
  "orig_nbformat": 4,
  "vscode": {
   "interpreter": {
    "hash": "8960cf5a1c7790277e6f5e788b0daaf49f10d00eb64f6b52bfced174b024aeac"
   }
  }
 },
 "nbformat": 4,
 "nbformat_minor": 2
}
