{
  "cells": [
    {
      "cell_type": "markdown",
      "metadata": {
        "id": "-jAJuH9BXu-I"
      },
      "source": [
        "# MNIST with SciKit-Learn and skorch\n",
        "\n",
        "This notebooks shows how to define and train a simple Neural-Network with PyTorch and use it via skorch with SciKit-Learn.\n",
        "\n",
        "<table align=\"left\"><td>\n",
        "<a target=\"_blank\" href=\"https://colab.research.google.com/github/skorch-dev/skorch/blob/master/notebooks/MNIST.ipynb\">\n",
        "    <img src=\"https://www.tensorflow.org/images/colab_logo_32px.png\" />Run in Google Colab</a>  \n",
        "</td><td>\n",
        "<a target=\"_blank\" href=\"https://github.com/skorch-dev/skorch/blob/master/notebooks/MNIST.ipynb\"><img width=32px src=\"https://www.tensorflow.org/images/GitHub-Mark-32px.png\" />View source on GitHub</a></td></table>"
      ]
    },
    {
      "cell_type": "markdown",
      "metadata": {
        "id": "HwRiqVn3Xu-N"
      },
      "source": [
        "**Note**: If you are running this in [a colab notebook](https://colab.research.google.com/github/skorch-dev/skorch/blob/master/notebooks/MNIST.ipynb), we recommend you enable a free GPU by going:\n",
        "\n",
        "> **Runtime**   →   **Change runtime type**   →   **Hardware Accelerator: GPU**\n",
        "\n",
        "If you are running in colab, you should install the dependencies and download the dataset by running the following cell:"
      ]
    },
    {
      "cell_type": "code",
      "execution_count": null,
      "metadata": {
        "id": "GmYbxmOrXu-O",
        "outputId": "3e1d0d0c-8f2d-4767-fda6-46e5daa62531",
        "colab": {
          "base_uri": "https://localhost:8080/"
        }
      },
      "outputs": [
        {
          "output_type": "stream",
          "name": "stdout",
          "text": [
            "Looking in indexes: https://pypi.org/simple, https://us-python.pkg.dev/colab-wheels/public/simple/\n",
            "Requirement already satisfied: torch in /usr/local/lib/python3.7/dist-packages (1.12.1+cu113)\n",
            "Collecting scikit-learn==0.20.*\n",
            "  Downloading scikit_learn-0.20.4-cp37-cp37m-manylinux1_x86_64.whl (5.4 MB)\n",
            "\u001b[K     |████████████████████████████████| 5.4 MB 16.7 MB/s \n",
            "\u001b[?25hCollecting skorch\n",
            "  Downloading skorch-0.12.0-py3-none-any.whl (185 kB)\n",
            "\u001b[K     |████████████████████████████████| 185 kB 54.1 MB/s \n",
            "\u001b[?25hRequirement already satisfied: numpy>=1.8.2 in /usr/local/lib/python3.7/dist-packages (from scikit-learn==0.20.*) (1.21.6)\n",
            "Requirement already satisfied: scipy>=0.13.3 in /usr/local/lib/python3.7/dist-packages (from scikit-learn==0.20.*) (1.7.3)\n",
            "Requirement already satisfied: typing-extensions in /usr/local/lib/python3.7/dist-packages (from torch) (4.1.1)\n",
            "Requirement already satisfied: tqdm>=4.14.0 in /usr/local/lib/python3.7/dist-packages (from skorch) (4.64.1)\n",
            "  Downloading skorch-0.11.0-py3-none-any.whl (155 kB)\n",
            "\u001b[K     |████████████████████████████████| 155 kB 54.3 MB/s \n",
            "\u001b[?25hRequirement already satisfied: tabulate>=0.7.7 in /usr/local/lib/python3.7/dist-packages (from skorch) (0.8.10)\n",
            "Installing collected packages: scikit-learn, skorch\n",
            "  Attempting uninstall: scikit-learn\n",
            "    Found existing installation: scikit-learn 1.0.2\n",
            "    Uninstalling scikit-learn-1.0.2:\n",
            "      Successfully uninstalled scikit-learn-1.0.2\n",
            "\u001b[31mERROR: pip's dependency resolver does not currently take into account all the packages that are installed. This behaviour is the source of the following dependency conflicts.\n",
            "yellowbrick 1.5 requires scikit-learn>=1.0.0, but you have scikit-learn 0.20.4 which is incompatible.\n",
            "imbalanced-learn 0.8.1 requires scikit-learn>=0.24, but you have scikit-learn 0.20.4 which is incompatible.\u001b[0m\n",
            "Successfully installed scikit-learn-0.20.4 skorch-0.11.0\n"
          ]
        }
      ],
      "source": [
        "! [ ! -z \"$COLAB_GPU\" ] && pip install torch scikit-learn==0.20.* skorch"
      ]
    },
    {
      "cell_type": "code",
      "execution_count": null,
      "metadata": {
        "id": "pqPmZCxMXu-P"
      },
      "outputs": [],
      "source": [
        "from sklearn.datasets import fetch_openml\n",
        "from sklearn.model_selection import train_test_split\n",
        "import numpy as np\n",
        "import matplotlib.pyplot as plt\n",
        "import pandas as pd"
      ]
    },
    {
      "cell_type": "markdown",
      "metadata": {
        "id": "BLv9ONppXu-P"
      },
      "source": [
        "## Loading Data\n",
        "Using SciKit-Learns ```fetch_openml``` to load MNIST data."
      ]
    },
    {
      "cell_type": "code",
      "execution_count": null,
      "metadata": {
        "id": "WWlXeTypXu-Q"
      },
      "outputs": [],
      "source": [
        "mnist = fetch_openml('mnist_784', cache=False)"
      ]
    },
    {
      "cell_type": "code",
      "execution_count": null,
      "metadata": {
        "id": "jCthA8QTXu-Q",
        "outputId": "2babed2e-93bf-4d66-d230-19f798185ba4",
        "colab": {
          "base_uri": "https://localhost:8080/"
        }
      },
      "outputs": [
        {
          "output_type": "execute_result",
          "data": {
            "text/plain": [
              "(70000, 784)"
            ]
          },
          "metadata": {},
          "execution_count": 26
        }
      ],
      "source": [
        "mnist.data.shape"
      ]
    },
    {
      "cell_type": "markdown",
      "metadata": {
        "id": "gyaYNlF8Xu-R"
      },
      "source": [
        "## Preprocessing Data\n",
        "\n",
        "Each image of the MNIST dataset is encoded in a 784 dimensional vector, representing a 28 x 28 pixel image. Each pixel has a value between 0 and 255, corresponding to the grey-value of a pixel.<br />\n",
        "The above ```featch_mldata``` method to load MNIST returns ```data``` and ```target``` as ```uint8``` which we convert to ```float32``` and ```int64``` respectively."
      ]
    },
    {
      "cell_type": "code",
      "execution_count": null,
      "metadata": {
        "id": "bAsCGYTAXu-S"
      },
      "outputs": [],
      "source": [
        "X = mnist.data.astype('float32')\n",
        "y = mnist.target.astype('int64')"
      ]
    },
    {
      "cell_type": "code",
      "source": [
        "X = pd.DataFrame.to_numpy(X)\n",
        "print(type(X))"
      ],
      "metadata": {
        "colab": {
          "base_uri": "https://localhost:8080/"
        },
        "id": "EaMvqoDKJIYr",
        "outputId": "f524c5f4-54fe-4f28-a0f8-62799f0710b7"
      },
      "execution_count": null,
      "outputs": [
        {
          "output_type": "stream",
          "name": "stdout",
          "text": [
            "<class 'numpy.ndarray'>\n"
          ]
        }
      ]
    },
    {
      "cell_type": "markdown",
      "metadata": {
        "id": "3uYCjaGKXu-S"
      },
      "source": [
        "To avoid big weights that deal with the pixel values from between [0, 255], we scale `X` down. A commonly used range is [0, 1]."
      ]
    },
    {
      "cell_type": "code",
      "execution_count": null,
      "metadata": {
        "id": "pyRAdfZbXu-T"
      },
      "outputs": [],
      "source": [
        "X /= 255.0"
      ]
    },
    {
      "cell_type": "code",
      "execution_count": null,
      "metadata": {
        "id": "OhwT72v0Xu-T",
        "outputId": "60f4eff7-ee77-4dc5-e771-af1ce6854de3",
        "colab": {
          "base_uri": "https://localhost:8080/"
        }
      },
      "outputs": [
        {
          "output_type": "execute_result",
          "data": {
            "text/plain": [
              "(0.0, 1.0)"
            ]
          },
          "metadata": {},
          "execution_count": 37
        }
      ],
      "source": [
        "X.min(), X.max()"
      ]
    },
    {
      "cell_type": "markdown",
      "metadata": {
        "id": "4esI_QbNXu-T"
      },
      "source": [
        "Note: data is not normalized."
      ]
    },
    {
      "cell_type": "code",
      "execution_count": null,
      "metadata": {
        "id": "2duQOjJ-Xu-T"
      },
      "outputs": [],
      "source": [
        "X_train, X_test, y_train, y_test = train_test_split(X, y, test_size=0.25, random_state=42)"
      ]
    },
    {
      "cell_type": "code",
      "execution_count": null,
      "metadata": {
        "id": "wjG6rDH6Xu-U"
      },
      "outputs": [],
      "source": [
        "assert(X_train.shape[0] + X_test.shape[0] == mnist.data.shape[0])"
      ]
    },
    {
      "cell_type": "code",
      "execution_count": null,
      "metadata": {
        "id": "HUj5vOf8Xu-U",
        "outputId": "747c7268-1179-4beb-a9f7-57e7cf21bd1a",
        "colab": {
          "base_uri": "https://localhost:8080/"
        }
      },
      "outputs": [
        {
          "output_type": "execute_result",
          "data": {
            "text/plain": [
              "((52500, 784), (52500,))"
            ]
          },
          "metadata": {},
          "execution_count": 40
        }
      ],
      "source": [
        "X_train.shape, y_train.shape"
      ]
    },
    {
      "cell_type": "markdown",
      "metadata": {
        "id": "LZi2uFwSXu-U"
      },
      "source": [
        "### Print a selection of training images and their labels"
      ]
    },
    {
      "cell_type": "code",
      "execution_count": null,
      "metadata": {
        "id": "uY3Q5hlAXu-V"
      },
      "outputs": [],
      "source": [
        "def plot_example(X, y):\n",
        "    \"\"\"Plot the first 5 images and their labels in a row.\"\"\"\n",
        "    for i, (img, y) in enumerate(zip(X[:5].reshape(5, 28, 28), y[:5])):\n",
        "        plt.subplot(151 + i)\n",
        "        plt.imshow(img, cmap=plt.cm.gray_r)\n",
        "        plt.xticks([])\n",
        "        plt.yticks([])\n",
        "        plt.title(y)"
      ]
    },
    {
      "cell_type": "code",
      "execution_count": null,
      "metadata": {
        "id": "fJGpakRvXu-V",
        "outputId": "2ffb5c7b-4ad9-428b-fce6-cdfd025f60ce",
        "colab": {
          "base_uri": "https://localhost:8080/",
          "height": 108
        }
      },
      "outputs": [
        {
          "output_type": "display_data",
          "data": {
            "text/plain": [
              "<Figure size 432x288 with 5 Axes>"
            ],
            "image/png": "[encoded data removed]"
          },
          "metadata": {}
        }
      ],
      "source": [
        "plot_example(X_train, y_train)"
      ]
    },
    {
      "cell_type": "markdown",
      "metadata": {
        "id": "rxQnvn4vXu-V"
      },
      "source": [
        "## Build Neural Network with PyTorch\n",
        "This network has two hidden layers: (hidden_dim1=100) and (hidden_dim2=80). The syntax is awful and very easy to make mistakes."
      ]
    },
    {
      "cell_type": "code",
      "execution_count": null,
      "metadata": {
        "id": "0OvFO1VYXu-V"
      },
      "outputs": [],
      "source": [
        "import torch\n",
        "from torch import nn\n",
        "import torch.nn.functional as F"
      ]
    },
    {
      "cell_type": "code",
      "execution_count": null,
      "metadata": {
        "id": "tsqEMtIpXu-W"
      },
      "outputs": [],
      "source": [
        "device = 'cuda' if torch.cuda.is_available() else 'cpu'"
      ]
    },
    {
      "cell_type": "code",
      "execution_count": null,
      "metadata": {
        "id": "R40KisVHXu-W"
      },
      "outputs": [],
      "source": [
        "mnist_dim = X.shape[1]\n",
        "hidden_dim1 = 100\n",
        "hidden_dim2 = 80\n",
        "output_dim = len(np.unique(mnist.target))"
      ]
    },
    {
      "cell_type": "code",
      "execution_count": null,
      "metadata": {
        "id": "prygWvUZXu-W",
        "outputId": "2d53dc23-eb56-4fb8-ffba-bbfec695c2ea",
        "colab": {
          "base_uri": "https://localhost:8080/"
        }
      },
      "outputs": [
        {
          "output_type": "execute_result",
          "data": {
            "text/plain": [
              "(784, 100, 80, 10)"
            ]
          },
          "metadata": {},
          "execution_count": 49
        }
      ],
      "source": [
        "mnist_dim, hidden_dim1, hidden_dim2, output_dim"
      ]
    },
    {
      "cell_type": "markdown",
      "metadata": {
        "id": "fCZXhiuDXu-W"
      },
      "source": [
        "A Neural network in PyTorch's framework."
      ]
    },
    {
      "cell_type": "code",
      "execution_count": null,
      "metadata": {
        "id": "A3aLdc9SXu-X"
      },
      "outputs": [],
      "source": [
        "class ClassifierModule(nn.Module):\n",
        "    def __init__(\n",
        "            self,\n",
        "            input_dim=mnist_dim,\n",
        "            hidden_dim1=hidden_dim1,\n",
        "            hidden_dim2=hidden_dim2,\n",
        "            output_dim=output_dim,\n",
        "            dropout=0.5,\n",
        "    ):\n",
        "        super(ClassifierModule, self).__init__()\n",
        "        self.dropout = nn.Dropout(dropout)\n",
        "\n",
        "        self.hidden1 = nn.Linear(input_dim, hidden_dim1)\n",
        "        self.hidden2 = nn.Linear(hidden_dim1, hidden_dim2)\n",
        "        self.output = nn.Linear(hidden_dim2, output_dim)\n",
        "    def forward(self, X, **kwargs):\n",
        "        X = F.relu(self.hidden2(F.relu(self.hidden1(X))))\n",
        "        X = self.dropout(X)\n",
        "        X = F.softmax(self.output(X), dim=-1)\n",
        "        return X"
      ]
    },
    {
      "cell_type": "markdown",
      "metadata": {
        "id": "kaJSPOKmXu-X"
      },
      "source": [
        "skorch allows to use PyTorch's networks in the SciKit-Learn setting:"
      ]
    },
    {
      "cell_type": "code",
      "source": [
        "print(ClassifierModule())"
      ],
      "metadata": {
        "colab": {
          "base_uri": "https://localhost:8080/"
        },
        "id": "-oTPq_iwDzB8",
        "outputId": "87169962-8103-4fe9-d6d3-432c7976403a"
      },
      "execution_count": null,
      "outputs": [
        {
          "output_type": "stream",
          "name": "stdout",
          "text": [
            "ClassifierModule(\n",
            "  (dropout): Dropout(p=0.5, inplace=False)\n",
            "  (hidden1): Linear(in_features=784, out_features=100, bias=True)\n",
            "  (hidden2): Linear(in_features=100, out_features=80, bias=True)\n",
            "  (output): Linear(in_features=80, out_features=10, bias=True)\n",
            ")\n"
          ]
        }
      ]
    },
    {
      "cell_type": "code",
      "execution_count": null,
      "metadata": {
        "id": "s0QFlQ63Xu-X"
      },
      "outputs": [],
      "source": [
        "from skorch import NeuralNetClassifier"
      ]
    },
    {
      "cell_type": "code",
      "execution_count": null,
      "metadata": {
        "id": "45p_YhHJXu-X"
      },
      "outputs": [],
      "source": [
        "torch.manual_seed(0)\n",
        "\n",
        "net = NeuralNetClassifier(\n",
        "    ClassifierModule,\n",
        "    max_epochs=20,\n",
        "    lr=0.1,\n",
        "    device=device,\n",
        ")"
      ]
    },
    {
      "cell_type": "code",
      "execution_count": null,
      "metadata": {
        "id": "_Np6oB1QXu-X",
        "outputId": "7f90ed87-38a1-4373-b24d-7405cec64ed8",
        "colab": {
          "base_uri": "https://localhost:8080/"
        }
      },
      "outputs": [
        {
          "output_type": "stream",
          "name": "stdout",
          "text": [
            "  epoch    train_loss    valid_acc    valid_loss     dur\n",
            "-------  ------------  -----------  ------------  ------\n",
            "      1        \u001b[36m1.0294\u001b[0m       \u001b[32m0.8698\u001b[0m        \u001b[35m0.4400\u001b[0m  1.9748\n",
            "      2        \u001b[36m0.4403\u001b[0m       \u001b[32m0.9069\u001b[0m        \u001b[35m0.3153\u001b[0m  1.7692\n",
            "      3        \u001b[36m0.3435\u001b[0m       \u001b[32m0.9140\u001b[0m        \u001b[35m0.2784\u001b[0m  1.7528\n",
            "      4        \u001b[36m0.2850\u001b[0m       \u001b[32m0.9379\u001b[0m        \u001b[35m0.2070\u001b[0m  1.7384\n",
            "      5        \u001b[36m0.2453\u001b[0m       \u001b[32m0.9452\u001b[0m        \u001b[35m0.1769\u001b[0m  1.7040\n",
            "      6        \u001b[36m0.2135\u001b[0m       \u001b[32m0.9528\u001b[0m        \u001b[35m0.1594\u001b[0m  1.8743\n",
            "      7        \u001b[36m0.1912\u001b[0m       \u001b[32m0.9545\u001b[0m        \u001b[35m0.1503\u001b[0m  1.8298\n",
            "      8        \u001b[36m0.1711\u001b[0m       \u001b[32m0.9594\u001b[0m        \u001b[35m0.1378\u001b[0m  1.7426\n",
            "      9        \u001b[36m0.1562\u001b[0m       \u001b[32m0.9597\u001b[0m        \u001b[35m0.1341\u001b[0m  1.7058\n",
            "     10        \u001b[36m0.1436\u001b[0m       \u001b[32m0.9638\u001b[0m        \u001b[35m0.1203\u001b[0m  1.7264\n",
            "     11        \u001b[36m0.1346\u001b[0m       0.9632        \u001b[35m0.1190\u001b[0m  1.8374\n",
            "     12        \u001b[36m0.1223\u001b[0m       \u001b[32m0.9657\u001b[0m        \u001b[35m0.1128\u001b[0m  1.8326\n",
            "     13        \u001b[36m0.1155\u001b[0m       0.9657        \u001b[35m0.1125\u001b[0m  1.7632\n",
            "     14        \u001b[36m0.1062\u001b[0m       \u001b[32m0.9674\u001b[0m        \u001b[35m0.1066\u001b[0m  2.9142\n",
            "     15        \u001b[36m0.1013\u001b[0m       \u001b[32m0.9686\u001b[0m        \u001b[35m0.1037\u001b[0m  1.7583\n",
            "     16        \u001b[36m0.0941\u001b[0m       \u001b[32m0.9690\u001b[0m        \u001b[35m0.1012\u001b[0m  1.7393\n",
            "     17        \u001b[36m0.0911\u001b[0m       \u001b[32m0.9701\u001b[0m        \u001b[35m0.0972\u001b[0m  1.7737\n",
            "     18        \u001b[36m0.0864\u001b[0m       0.9699        0.0983  1.7625\n",
            "     19        \u001b[36m0.0800\u001b[0m       \u001b[32m0.9723\u001b[0m        \u001b[35m0.0921\u001b[0m  1.7236\n",
            "     20        \u001b[36m0.0764\u001b[0m       0.9707        0.0949  1.7148\n"
          ]
        }
      ],
      "source": [
        "net.fit(X_train, y_train);"
      ]
    },
    {
      "cell_type": "markdown",
      "metadata": {
        "id": "m3aBRgNxXu-Y"
      },
      "source": [
        "## Prediction"
      ]
    },
    {
      "cell_type": "code",
      "execution_count": null,
      "metadata": {
        "id": "dlS_-_-uXu-Y"
      },
      "outputs": [],
      "source": [
        "from sklearn.metrics import accuracy_score"
      ]
    },
    {
      "cell_type": "code",
      "execution_count": null,
      "metadata": {
        "id": "0mIomvowXu-Y"
      },
      "outputs": [],
      "source": [
        "y_pred = net.predict(X_test)"
      ]
    },
    {
      "cell_type": "code",
      "execution_count": null,
      "metadata": {
        "id": "JS6w2oaWXu-Y",
        "colab": {
          "base_uri": "https://localhost:8080/"
        },
        "outputId": "7e3f2d7d-09f1-44d1-cf71-11818498bb35"
      },
      "outputs": [
        {
          "output_type": "execute_result",
          "data": {
            "text/plain": [
              "0.9698285714285714"
            ]
          },
          "metadata": {},
          "execution_count": 61
        }
      ],
      "source": [
        "accuracy_score(y_test, y_pred)"
      ]
    },
    {
      "cell_type": "markdown",
      "metadata": {
        "id": "wnG3T_0IXu-Y"
      },
      "source": [
        "An accuracy of about 96% for a network with only one hidden layer is not too bad.\n",
        "\n",
        "Let's take a look at some predictions that went wrong:"
      ]
    },
    {
      "cell_type": "code",
      "execution_count": null,
      "metadata": {
        "id": "OD5QIKXcXu-Y"
      },
      "outputs": [],
      "source": [
        "error_mask = y_pred != y_test"
      ]
    },
    {
      "cell_type": "code",
      "execution_count": null,
      "metadata": {
        "id": "hyOBeqXfXu-Y",
        "colab": {
          "base_uri": "https://localhost:8080/",
          "height": 108
        },
        "outputId": "ed33a237-354e-4cf0-f7dd-5c98e8dedf58"
      },
      "outputs": [
        {
          "output_type": "display_data",
          "data": {
            "text/plain": [
              "<Figure size 432x288 with 5 Axes>"
            ],
            "image/png": "[encoded data removed]"
          },
          "metadata": {}
        }
      ],
      "source": [
        "plot_example(X_test[error_mask], y_pred[error_mask])"
      ]
    },
    {
      "cell_type": "markdown",
      "metadata": {
        "id": "-iqUP3z7Xu-Z"
      },
      "source": [
        "# Convolutional Network\n",
        "PyTorch expects a 4 dimensional tensor as input for its 2D convolution layer. The dimensions represent:\n",
        "* Batch size\n",
        "* Number of channel\n",
        "* Height\n",
        "* Width\n",
        "\n",
        "As initial batch size the number of examples needs to be provided. MNIST data has only one channel. As stated above, each MNIST vector represents a 28x28 pixel image. Hence, the resulting shape for PyTorch tensor needs to be (x, 1, 28, 28). "
      ]
    },
    {
      "cell_type": "code",
      "execution_count": null,
      "metadata": {
        "id": "eeEeLoAzXu-Z"
      },
      "outputs": [],
      "source": [
        "XCnn = X.reshape(-1, 1, 28, 28)"
      ]
    },
    {
      "cell_type": "code",
      "execution_count": null,
      "metadata": {
        "id": "8Fq-F-KzXu-Z",
        "outputId": "49370ef8-755f-420d-98ff-c555eb033fa2",
        "colab": {
          "base_uri": "https://localhost:8080/"
        }
      },
      "outputs": [
        {
          "output_type": "execute_result",
          "data": {
            "text/plain": [
              "(70000, 1, 28, 28)"
            ]
          },
          "metadata": {},
          "execution_count": 70
        }
      ],
      "source": [
        "XCnn.shape"
      ]
    },
    {
      "cell_type": "code",
      "execution_count": null,
      "metadata": {
        "id": "gYEJSe8LXu-Z"
      },
      "outputs": [],
      "source": [
        "XCnn_train, XCnn_test, y_train, y_test = train_test_split(XCnn, y, test_size=0.25, random_state=42)"
      ]
    },
    {
      "cell_type": "code",
      "execution_count": null,
      "metadata": {
        "id": "DL8Ecn60Xu-Z",
        "outputId": "99ca6950-4f18-4bc5-fccc-ec1ee1d9588a",
        "colab": {
          "base_uri": "https://localhost:8080/"
        }
      },
      "outputs": [
        {
          "output_type": "execute_result",
          "data": {
            "text/plain": [
              "((52500, 1, 28, 28), (52500,))"
            ]
          },
          "metadata": {},
          "execution_count": 72
        }
      ],
      "source": [
        "XCnn_train.shape, y_train.shape"
      ]
    },
    {
      "cell_type": "code",
      "execution_count": null,
      "metadata": {
        "id": "-DYETvRLXu-b"
      },
      "outputs": [],
      "source": [
        "class Cnn(nn.Module):\n",
        "    def __init__(self, dropout=0.5):\n",
        "        super(Cnn, self).__init__()\n",
        "        # First 2D convolutional layer, taking in 1 input channel (image),\n",
        "        # outputting 32 convolutional features, with a square kernel size of 3\n",
        "        self.conv1 = nn.Conv2d(1, 32, kernel_size=3)\n",
        "        # Second 2D convolutional layer, taking in the 32 input layers,\n",
        "        # outputting 64 convolutional features, with a square kernel size of 3\n",
        "        self.conv2 = nn.Conv2d(32, 64, kernel_size=3)\n",
        "\n",
        "\n",
        "        self.conv2_drop = nn.Dropout2d(p=dropout)\n",
        "        # First fully connected layer\n",
        "        self.fc1 = nn.Linear(1600, 100) # 1600 = number channels * width * height\n",
        "        # Second fully connected layer that outputs our 10 labels\n",
        "        self.fc2 = nn.Linear(100, 10)\n",
        "        self.fc1_drop = nn.Dropout(p=dropout)\n",
        "\n",
        "    def forward(self, x):\n",
        "        x = torch.relu(F.max_pool2d(self.conv1(x), 2))\n",
        "        x = torch.relu(F.max_pool2d(self.conv2_drop(self.conv2(x)), 2))\n",
        "        \n",
        "        # flatten over channel, height and width = 1600\n",
        "        x = x.view(-1, x.size(1) * x.size(2) * x.size(3))\n",
        "        \n",
        "        x = torch.relu(self.fc1_drop(self.fc1(x)))\n",
        "        x = torch.softmax(self.fc2(x), dim=-1)\n",
        "        return x"
      ]
    },
    {
      "cell_type": "code",
      "source": [
        "print(Cnn())"
      ],
      "metadata": {
        "colab": {
          "base_uri": "https://localhost:8080/"
        },
        "id": "LpAtoxaKEGT4",
        "outputId": "0b5db986-de05-41c4-ee7e-deacda20e0d3"
      },
      "execution_count": null,
      "outputs": [
        {
          "output_type": "stream",
          "name": "stdout",
          "text": [
            "Cnn(\n",
            "  (conv1): Conv2d(1, 32, kernel_size=(5, 5), stride=(1, 1))\n",
            "  (conv2): Conv2d(32, 64, kernel_size=(3, 3), stride=(1, 1))\n",
            "  (conv2_drop): Dropout2d(p=0.5, inplace=False)\n",
            "  (fc1): Linear(in_features=1600, out_features=100, bias=True)\n",
            "  (fc2): Linear(in_features=100, out_features=10, bias=True)\n",
            "  (fc1_drop): Dropout(p=0.5, inplace=False)\n",
            ")\n"
          ]
        }
      ]
    },
    {
      "cell_type": "code",
      "execution_count": null,
      "metadata": {
        "id": "6OKSwz-uXu-b"
      },
      "outputs": [],
      "source": [
        "torch.manual_seed(0)\n",
        "\n",
        "cnn = NeuralNetClassifier(\n",
        "    Cnn,\n",
        "    max_epochs=10,\n",
        "    lr=0.002,\n",
        "    optimizer=torch.optim.Adam,\n",
        "    device=device,\n",
        ")"
      ]
    },
    {
      "cell_type": "code",
      "execution_count": null,
      "metadata": {
        "id": "tT1yCQu9Xu-c",
        "outputId": "dd71870d-3cbe-44b5-965a-49e1475b87d6",
        "colab": {
          "base_uri": "https://localhost:8080/"
        }
      },
      "outputs": [
        {
          "output_type": "stream",
          "name": "stdout",
          "text": [
            "  epoch    train_loss    valid_acc    valid_loss      dur\n",
            "-------  ------------  -----------  ------------  -------\n",
            "      1        \u001b[36m0.3865\u001b[0m       \u001b[32m0.9759\u001b[0m        \u001b[35m0.0770\u001b[0m  34.4211\n",
            "      2        \u001b[36m0.1398\u001b[0m       \u001b[32m0.9826\u001b[0m        \u001b[35m0.0566\u001b[0m  35.2544\n",
            "      3        \u001b[36m0.1105\u001b[0m       \u001b[32m0.9834\u001b[0m        \u001b[35m0.0534\u001b[0m  34.2419\n",
            "      4        \u001b[36m0.0961\u001b[0m       \u001b[32m0.9870\u001b[0m        \u001b[35m0.0416\u001b[0m  33.9821\n",
            "      5        \u001b[36m0.0845\u001b[0m       0.9870        0.0424  33.7145\n",
            "      6        \u001b[36m0.0802\u001b[0m       \u001b[32m0.9885\u001b[0m        \u001b[35m0.0390\u001b[0m  35.0138\n",
            "      7        \u001b[36m0.0740\u001b[0m       \u001b[32m0.9896\u001b[0m        \u001b[35m0.0353\u001b[0m  34.3681\n",
            "      8        \u001b[36m0.0703\u001b[0m       0.9892        \u001b[35m0.0340\u001b[0m  34.0228\n",
            "      9        \u001b[36m0.0664\u001b[0m       0.9889        0.0369  33.7109\n",
            "     10        \u001b[36m0.0616\u001b[0m       0.9888        0.0372  34.0242\n"
          ]
        }
      ],
      "source": [
        "cnn.fit(XCnn_train, y_train);"
      ]
    },
    {
      "cell_type": "code",
      "execution_count": null,
      "metadata": {
        "id": "dtZZJnttXu-c"
      },
      "outputs": [],
      "source": [
        "y_pred_cnn = cnn.predict(XCnn_test)"
      ]
    },
    {
      "cell_type": "code",
      "execution_count": null,
      "metadata": {
        "id": "AxA4prLkXu-c",
        "outputId": "7b5a41c0-9762-4bc5-c437-10527730de76",
        "colab": {
          "base_uri": "https://localhost:8080/"
        }
      },
      "outputs": [
        {
          "output_type": "execute_result",
          "data": {
            "text/plain": [
              "0.9882285714285715"
            ]
          },
          "metadata": {},
          "execution_count": 79
        }
      ],
      "source": [
        "accuracy_score(y_test, y_pred_cnn)"
      ]
    },
    {
      "cell_type": "markdown",
      "metadata": {
        "id": "-hUiQaw3Xu-c"
      },
      "source": [
        "An accuracy of >98% should suffice for this example!\n",
        "\n",
        "Let's see how we fare on the examples that went wrong before:"
      ]
    },
    {
      "cell_type": "code",
      "execution_count": null,
      "metadata": {
        "id": "uj2UfRcZXu-c",
        "outputId": "68104c10-ebb2-4108-cb79-5e7c3e05d4a1",
        "colab": {
          "base_uri": "https://localhost:8080/"
        }
      },
      "outputs": [
        {
          "output_type": "execute_result",
          "data": {
            "text/plain": [
              "0.7386363636363636"
            ]
          },
          "metadata": {},
          "execution_count": 80
        }
      ],
      "source": [
        "accuracy_score(y_test[error_mask], y_pred_cnn[error_mask])"
      ]
    },
    {
      "cell_type": "markdown",
      "metadata": {
        "id": "OMq8yknZXu-c"
      },
      "source": [
        "Over 70% of the previously misclassified images are now correctly identified."
      ]
    },
    {
      "cell_type": "code",
      "execution_count": null,
      "metadata": {
        "id": "ujcNUygZXu-c",
        "outputId": "fdf445df-0f49-4b79-f880-188b778a9bec",
        "colab": {
          "base_uri": "https://localhost:8080/",
          "height": 108
        }
      },
      "outputs": [
        {
          "output_type": "display_data",
          "data": {
            "text/plain": [
              "<Figure size 432x288 with 5 Axes>"
            ],
            "image/png": "[encoded data removed]"
          },
          "metadata": {}
        }
      ],
      "source": [
        "plot_example(X_test[error_mask], y_pred_cnn[error_mask])"
      ]
    },
    {
      "cell_type": "markdown",
      "source": [
        "# Your turn\n",
        "\n",
        "\n",
        "*   Learn to add layers to the ANN. See example above.\n",
        "*   Learn to change the number of filters in the CNN; i.e., kernel sizes.  You can also play with dropout but I am not entirely sure the effects are visible.\n",
        "\n"
      ],
      "metadata": {
        "id": "AblB0i1p_9Am"
      }
    }
  ],
  "metadata": {
    "kernelspec": {
      "display_name": "Python 3",
      "language": "python",
      "name": "python3"
    },
    "language_info": {
      "codemirror_mode": {
        "name": "ipython",
        "version": 3
      },
      "file_extension": ".py",
      "mimetype": "text/x-python",
      "name": "python",
      "nbconvert_exporter": "python",
      "pygments_lexer": "ipython3",
      "version": "3.6.8"
    },
    "colab": {
      "provenance": []
    }
  },
  "nbformat": 4,
  "nbformat_minor": 0
}