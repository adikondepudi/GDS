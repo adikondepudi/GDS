{
 "cells": [
  {
   "cell_type": "code",
   "execution_count": null,
   "metadata": {},
   "outputs": [],
   "source": [
    "import matplotlib.pyplot as plt\n",
    "from sklearn.datasets import make_blobs\n",
    "import numpy as np"
   ]
  },
  {
   "cell_type": "code",
   "execution_count": null,
   "metadata": {},
   "outputs": [],
   "source": [
    "data, labels = make_blobs(n_samples=[100,300], \n",
    "                             centers=([1.1, 3], [4.5, 6.9]), \n",
    "                             cluster_std=1.3,\n",
    "                             random_state=0)"
   ]
  },
  {
   "cell_type": "code",
   "execution_count": null,
   "metadata": {},
   "outputs": [],
   "source": [
    "colours = ('red', 'blue')\n",
    "fig, ax = plt.subplots()\n",
    "\n",
    "for n_class in range(2):\n",
    "    ax.scatter(data[labels==n_class][:, 0], \n",
    "               data[labels==n_class][:, 1], \n",
    "               c=colours[n_class], \n",
    "               s=50, \n",
    "               label=str(n_class))"
   ]
  },
  {
   "cell_type": "code",
   "execution_count": null,
   "metadata": {},
   "outputs": [],
   "source": [
    "from sklearn.model_selection import train_test_split\n",
    "datasets = train_test_split(data, \n",
    "                            labels,\n",
    "                            test_size=0.2)\n",
    "\n",
    "X_train, X_test, y_train, y_test = datasets"
   ]
  },
  {
   "cell_type": "code",
   "execution_count": null,
   "metadata": {},
   "outputs": [],
   "source": [
    "from sklearn.linear_model import Perceptron\n",
    "p = Perceptron(random_state=42)\n",
    "p.fit(X_train, y_train)\n",
    "w = p.coef_\n",
    "w0 = p.intercept_"
   ]
  },
  {
   "cell_type": "code",
   "execution_count": null,
   "metadata": {},
   "outputs": [],
   "source": [
    "colours = ('red', 'blue')\n",
    "fig, ax = plt.subplots()\n",
    "\n",
    "for n_class in range(2):\n",
    "    ax.scatter(X_train[y_train==n_class][:, 0], \n",
    "               X_train[y_train==n_class][:, 1], \n",
    "               c=colours[n_class], \n",
    "               s=50, \n",
    "               label=str(n_class))\n",
    "\n",
    "xx = np.linspace(-2,8)\n",
    "yy = - w[:,0]/w[:,1]*xx - w0/w[:,1]\n",
    "plt.plot(xx,yy,color=\"green\")\n",
    "plt.show()"
   ]
  },
  {
   "cell_type": "code",
   "execution_count": null,
   "metadata": {},
   "outputs": [],
   "source": [
    "colours = ('red', 'blue')\n",
    "fig, ax = plt.subplots()\n",
    "\n",
    "for n_class in range(2):\n",
    "    ax.scatter(X_test[y_test==n_class][:, 0], \n",
    "               X_test[y_test==n_class][:, 1], \n",
    "               c=colours[n_class], \n",
    "               s=50, \n",
    "               label=str(n_class))\n",
    "\n",
    "xx = np.linspace(-2,8)\n",
    "yy = - w[:,0]/w[:,1]*xx - w0/w[:,1]\n",
    "plt.plot(xx,yy,color=\"green\")\n",
    "plt.show()"
   ]
  },
  {
   "cell_type": "code",
   "execution_count": null,
   "metadata": {},
   "outputs": [],
   "source": [
    "print(\"Training score\", p.score(X_train,y_train))\n",
    "print(\"Testing score\", p.score(X_test,y_test))"
   ]
  }
 ],
 "metadata": {
  "kernelspec": {
   "display_name": "Python 3",
   "language": "python",
   "name": "python3"
  },
  "language_info": {
   "name": "python",
   "version": "3.9.6 (default, Sep 26 2022, 11:37:49) \n[Clang 14.0.0 (clang-1400.0.29.202)]"
  },
  "orig_nbformat": 4,
  "vscode": {
   "interpreter": {
    "hash": "31f2aee4e71d21fbe5cf8b01ff0e069b9275f58929596ceb00d14d90e3e16cd6"
   }
  }
 },
 "nbformat": 4,
 "nbformat_minor": 2
}
